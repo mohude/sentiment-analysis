{
 "cells": [
  {
   "cell_type": "code",
   "execution_count": 1,
   "metadata": {},
   "outputs": [
    {
     "name": "stdout",
     "output_type": "stream",
     "text": [
      "Requirement already satisfied: pandas in d:\\pyanaconda\\lib\\site-packages (1.1.3)\n",
      "Requirement already satisfied: jieba in d:\\pyanaconda\\lib\\site-packages (0.42.1)\n",
      "Requirement already satisfied: snownlp in d:\\pyanaconda\\lib\\site-packages (0.12.3)\n",
      "Requirement already satisfied: numpy>=1.15.4 in d:\\pyanaconda\\lib\\site-packages (from pandas) (1.19.2)\n",
      "Requirement already satisfied: pytz>=2017.2 in d:\\pyanaconda\\lib\\site-packages (from pandas) (2020.1)\n",
      "Requirement already satisfied: python-dateutil>=2.7.3 in d:\\pyanaconda\\lib\\site-packages (from pandas) (2.8.1)\n",
      "Requirement already satisfied: six>=1.5 in d:\\pyanaconda\\lib\\site-packages (from python-dateutil>=2.7.3->pandas) (1.15.0)\n"
     ]
    }
   ],
   "source": [
    "!pip install pandas jieba snownlp"
   ]
  },
  {
   "cell_type": "code",
   "execution_count": null,
   "metadata": {},
   "outputs": [],
   "source": [
    "import pandas as pd\n",
    "from snownlp import SnowNLP\n",
    "\n",
    "# 读取分词结果文件\n",
    "file_path = 'segmented_comments.txt'\n",
    "with open(file_path, 'r', encoding='utf-8') as f:\n",
    "    comments = f.readlines()\n",
    "\n",
    "# 对每条评论进行情感分析，并统计褒义、贬义和中性评论数量\n",
    "positive_count = 0\n",
    "negative_count = 0\n",
    "neutral_count = 0\n",
    "for comment in comments:\n",
    "    s = SnowNLP(comment.strip())\n",
    "    sentiment = s.sentiments\n",
    "    if sentiment > 0.66:\n",
    "        positive_count += 1\n",
    "    elif sentiment < 0.33:\n",
    "        negative_count += 1\n",
    "    else:\n",
    "        neutral_count += 1\n",
    "\n",
    "# 输出统计结果\n",
    "total_count = len(comments)\n",
    "print(f\"共有 {total_count} 条评论\")\n",
    "print(f\"其中褒义评论 {positive_count} 条，占比 {positive_count/total_count:.2%}\")\n",
    "print(f\"其中贬义评论 {negative_count} 条，占比 {negative_count/total_count:.2%}\")\n",
    "print(f\"其中中性评论 {neutral_count} 条，占比 {neutral_count/total_count:.2%}\")\n"
   ]
  }
 ],
 "metadata": {
  "kernelspec": {
   "display_name": "Python 3",
   "language": "python",
   "name": "python3"
  },
  "language_info": {
   "codemirror_mode": {
    "name": "ipython",
    "version": 3
   },
   "file_extension": ".py",
   "mimetype": "text/x-python",
   "name": "python",
   "nbconvert_exporter": "python",
   "pygments_lexer": "ipython3",
   "version": "3.8.5"
  }
 },
 "nbformat": 4,
 "nbformat_minor": 4
}

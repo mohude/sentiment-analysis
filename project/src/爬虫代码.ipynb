{
 "cells": [
  {
   "cell_type": "code",
   "execution_count": null,
   "metadata": {},
   "outputs": [],
   "source": [
    "import requests\n",
    "import pandas as pd\n",
    "# 请求头\n",
    "headers = {\n",
    "    'cookie': 'login_sid_t=fe3cb7346d2e1d10ca8bd14f5a0ea5c4; cross_origin_proto=SSL; XSRF-TOKEN=Cgj0BI79vA9CscePRXssgx1q; _s_tentry=passport.weibo.com; Apache=7890795296838.444.1716170655019; SINAGLOBAL=7890795296838.444.1716170655019; ULV=1716170655024:3:1:1:7890795296838.444.1716170655019:1685665947632; SUB=_2A25LTt-vDeRhGeFI6VUU8CjFzD2IHXVoIl1nrDV8PUNbmtANLVfSkW9NfSMRloy7nd4GnnW9NH_mRmDBT_pDxSrU; SUBP=0033WrSXqPxfM725Ws9jqgMF55529P9D9WhwgabOUxuBXLiCrAKOru4i5JpX5o275NHD95QNSozNSK5c1KMpWs4Dqcj_i--Xi-isi-88i--ciKL2i-2fi--ciKLsi-8si--Xi-z4iKnRi--fi-z7i-zp; ALF=1716775551; SSOLoginState=1716170751; WBPSESS=3v_hoLy8qpyhA1wxktmwQKAb3Q7rpHttLTLrJ-UAGxGgIytGdgnh4Ug3gWfz0CUyc-E7m1d3cL5bGDJWOMa59UUi9CwY4YXk_CukXVwIDeADgyPSlE3Z-RXIYSPLDxw9JPSN5ILuNM-hT_gdQ3rzMQ==',\n",
    "    'referer': 'https://weibo.com/1827578857/OcwIYFIoJ',\n",
    "    'user-agent': 'Mozilla/5.0 (Windows NT 10.0; Win64; x64) AppleWebKit/537.36 (KHTML, like Gecko) Chrome/124.0.0.0 Safari/537.36 Edg/124.0.0.0'\n",
    "}\n",
    "# 访问网站的地址\n",
    "url = 'https://weibo.com/ajax/statuses/buildComments?is_reload=1&id=5029857329942117&is_show_bulletin=2&is_mix=0&count=10&uid=1827578857&fetch_level=0&locale=zh-CN'\n",
    "# 发送请求并获取响应\n",
    "response = requests.get(url=url, headers=headers)\n",
    "# 解析响应的JSON数据\n",
    "json_data = response.json()\n",
    "# 提取评论数据\n",
    "data_list = json_data['data']\n",
    "# 创建一个空的列表来存储提取的评论\n",
    "comments = []\n",
    "# 遍历data_list，提取text_raw字段\n",
    "for data in data_list:\n",
    "    text_raw = data['text_raw']\n",
    "    comments.append(text_raw)\n",
    "# 将评论数据转换为DataFrame\n",
    "df = pd.DataFrame(comments, columns=['Comment'])\n",
    "# 将DataFrame存储到Excel文件\n",
    "\n",
    "df.to_excel('E:/各种文档/comments.xlsx', index=False)"
   ]
  }
 ],
 "metadata": {
  "kernelspec": {
   "display_name": "Python 3",
   "language": "python",
   "name": "python3"
  },
  "language_info": {
   "codemirror_mode": {
    "name": "ipython",
    "version": 3
   },
   "file_extension": ".py",
   "mimetype": "text/x-python",
   "name": "python",
   "nbconvert_exporter": "python",
   "pygments_lexer": "ipython3",
   "version": "3.8.5"
  }
 },
 "nbformat": 4,
 "nbformat_minor": 4
}
